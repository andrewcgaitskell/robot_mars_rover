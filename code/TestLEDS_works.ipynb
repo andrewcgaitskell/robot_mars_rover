{
 "cells": [
  {
   "cell_type": "code",
   "execution_count": null,
   "id": "884ee014-1b51-421e-9d7d-d3642f6e66b3",
   "metadata": {},
   "outputs": [],
   "source": [
    "import time\n",
    "from rpi_ws281x import *"
   ]
  },
  {
   "cell_type": "code",
   "execution_count": null,
   "id": "82091657-c4f0-4fd8-b377-b2dd30214712",
   "metadata": {},
   "outputs": [],
   "source": [
    "class LED:\n",
    "  def __init__(self):\n",
    "    self.LED_COUNT = 16 # Set to the total number of LED lights on the robot product.There are more LED lights on the Pi\n",
    "    self.LED_PIN = 12 # Set to the input pin number of the LED group \n",
    "    self.LED_FREQ_HZ = 800000\n",
    "    self.LED_DMA = 10\n",
    "    self.LED_BRIGHTNESS = 255\n",
    "    self.LED_INVERT = False\n",
    "    self.LED_CHANNEL = 0\n",
    "\n",
    "    # Use the configuration item above to create a strip\n",
    "    self.strip = Adafruit_NeoPixel(\n",
    "    self.LED_COUNT, self.LED_PIN, self.LED_FREQ_HZ, self.LED_DMA, self.LED_INVERT, self.LED_BRIGHTNESS, self.LED_CHANNEL\n",
    "    )\n",
    "\n",
    "    self.strip.begin()\n",
    "\n",
    "  def colorWipe(self, R, G, B): # This function is used to change the color of the LED light\n",
    "    color = Color(R, G, B)\n",
    "    for i in range(self.strip.numPixels()): # Only one LED light color can be set at a time, so we need to do a loop\n",
    "      self.strip.setPixelColor(i, color)\n",
    "      self.strip.show() # The color will only change after calling the show method\n",
    "\n"
   ]
  },
  {
   "cell_type": "code",
   "execution_count": null,
   "id": "e557819f-90b6-4934-a896-fbd2ed5b01b1",
   "metadata": {},
   "outputs": [],
   "source": [
    "LED = LED()\n",
    "try:\n",
    "    while 1:\n",
    "      LED.colorWipe(255, 0, 0) # All the lights turn red\n",
    "      time.sleep(1)\n",
    "      LED.colorWipe(0, 255, 0) # All lights turn green \n",
    "      time.sleep(1)\n",
    "      LED.colorWipe(0, 0, 255) # All lights turn blue\n",
    "      time.sleep(1)\n",
    "except:\n",
    "    LED.colorWipe(Color(0,0,0)) # Turn off all lights"
   ]
  },
  {
   "cell_type": "code",
   "execution_count": null,
   "id": "76e01106-b5c8-40e5-a713-3881c4eb50fe",
   "metadata": {},
   "outputs": [],
   "source": []
  }
 ],
 "metadata": {
  "kernelspec": {
   "display_name": "Python 3 (ipykernel)",
   "language": "python",
   "name": "python3"
  },
  "language_info": {
   "codemirror_mode": {
    "name": "ipython",
    "version": 3
   },
   "file_extension": ".py",
   "mimetype": "text/x-python",
   "name": "python",
   "nbconvert_exporter": "python",
   "pygments_lexer": "ipython3",
   "version": "3.11.2"
  }
 },
 "nbformat": 4,
 "nbformat_minor": 5
}
