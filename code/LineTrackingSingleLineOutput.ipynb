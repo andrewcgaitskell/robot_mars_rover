{
 "cells": [
  {
   "cell_type": "code",
   "execution_count": 4,
   "id": "08f401e8-ec35-4b38-9c72-c3481bdc551d",
   "metadata": {},
   "outputs": [],
   "source": [
    "import RPi.GPIO as GPIO\n",
    "import time\n",
    "from IPython.display import display, clear_output\n",
    "\n",
    "# Sensor pins\n",
    "line_pin_right = 19\n",
    "line_pin_middle = 16\n",
    "line_pin_left = 20"
   ]
  },
  {
   "cell_type": "code",
   "execution_count": 5,
   "id": "ca5ce4aa-0a2f-4740-8010-2ff568331d26",
   "metadata": {},
   "outputs": [],
   "source": [
    "\n",
    "# Initialize GPIO\n",
    "def setup():\n",
    "    GPIO.setwarnings(False)\n",
    "    GPIO.setmode(GPIO.BCM)\n",
    "    GPIO.setup(line_pin_right, GPIO.IN)\n",
    "    GPIO.setup(line_pin_middle, GPIO.IN)\n",
    "    GPIO.setup(line_pin_left, GPIO.IN)\n",
    "\n",
    "# Get sensor status as a single line string\n",
    "def get_sensor_status():\n",
    "    status_right = GPIO.input(line_pin_right)\n",
    "    status_middle = GPIO.input(line_pin_middle)\n",
    "    status_left = GPIO.input(line_pin_left)\n",
    "\n",
    "    # Format the status string\n",
    "    status = f\"Left: {'Line' if status_left else 'No Line'}, \" \\\n",
    "             f\"Middle: {'Line' if status_middle else 'No Line'}, \" \\\n",
    "             f\"Right: {'Line' if status_right else 'No Line'}\"\n",
    "    \n",
    "    return status\n",
    "\n",
    "# Setup GPIO\n",
    "setup()"
   ]
  },
  {
   "cell_type": "code",
   "execution_count": null,
   "id": "de24e470-f393-4d26-8b78-d49c0378e782",
   "metadata": {},
   "outputs": [
    {
     "data": {
      "text/plain": [
       "'Left: Line, Middle: No Line, Right: No Line'"
      ]
     },
     "metadata": {},
     "output_type": "display_data"
    }
   ],
   "source": [
    "# Continuous loop to update sensor readings in a single line\n",
    "try:\n",
    "    while True:\n",
    "        # Get the sensor status\n",
    "        status = get_sensor_status()\n",
    "        \n",
    "        # Clear the output and display the status\n",
    "        clear_output(wait=True)\n",
    "        display(status)\n",
    "        \n",
    "        # Delay for readability\n",
    "        time.sleep(0.1)\n",
    "\n",
    "except KeyboardInterrupt:\n",
    "    print(\"Loop stopped by user\")\n",
    "\n",
    "finally:\n",
    "    GPIO.cleanup()\n"
   ]
  },
  {
   "cell_type": "code",
   "execution_count": null,
   "id": "bfbf364b-b2f8-424c-a9ce-c1b3a88188f8",
   "metadata": {},
   "outputs": [],
   "source": []
  }
 ],
 "metadata": {
  "kernelspec": {
   "display_name": "Python 3 (ipykernel)",
   "language": "python",
   "name": "python3"
  },
  "language_info": {
   "codemirror_mode": {
    "name": "ipython",
    "version": 3
   },
   "file_extension": ".py",
   "mimetype": "text/x-python",
   "name": "python",
   "nbconvert_exporter": "python",
   "pygments_lexer": "ipython3",
   "version": "3.11.2"
  }
 },
 "nbformat": 4,
 "nbformat_minor": 5
}
