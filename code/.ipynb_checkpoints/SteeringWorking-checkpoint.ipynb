{
 "cells": [
  {
   "cell_type": "code",
   "execution_count": 3,
   "id": "e4a09eb2-809e-449c-9d4a-7ff904d5a662",
   "metadata": {},
   "outputs": [],
   "source": [
    "import time\n",
    "import board\n",
    "import busio\n",
    "from adafruit_pca9685 import PCA9685\n",
    "\n",
    "# Initialize I2C bus\n",
    "i2c = busio.I2C(board.SCL, board.SDA)\n",
    "\n",
    "# Create PCA9685 object\n",
    "pwm = PCA9685(i2c)\n",
    "pwm.frequency = 50  # Set the frequency to 50 Hz\n",
    "\n",
    "# Port number is set to 2 (corrected from 3)\n",
    "servo_channel = 2"
   ]
  },
  {
   "cell_type": "code",
   "execution_count": null,
   "id": "f7d4f3d1-16cb-4d23-9fc5-65a44ddb783b",
   "metadata": {},
   "outputs": [],
   "source": [
    "\n",
    "\n",
    "try:\n",
    "    while True:\n",
    "        # Slowly move the servo from 300 to 400\n",
    "        for i in range(0, 100):\n",
    "            pwm.channels[servo_channel].duty_cycle = (300 + i) * 16  # Scale to 16-bit value\n",
    "            time.sleep(0.05)\n",
    "\n",
    "        # Slowly move the servo from 400 to 300\n",
    "        for i in range(0, 100):\n",
    "            pwm.channels[servo_channel].duty_cycle = (400 - i) * 16  # Scale to 16-bit value\n",
    "            time.sleep(0.05)\n",
    "\n",
    "except KeyboardInterrupt:\n",
    "    print(\"Stopping...\")\n",
    "finally:\n",
    "    pwm.deinit()  # Clean up the PCA9685\n"
   ]
  },
  {
   "cell_type": "code",
   "execution_count": null,
   "id": "e0843ecf-368d-4915-b805-adca5ac43a0b",
   "metadata": {},
   "outputs": [],
   "source": []
  }
 ],
 "metadata": {
  "kernelspec": {
   "display_name": "Python 3 (ipykernel)",
   "language": "python",
   "name": "python3"
  },
  "language_info": {
   "codemirror_mode": {
    "name": "ipython",
    "version": 3
   },
   "file_extension": ".py",
   "mimetype": "text/x-python",
   "name": "python",
   "nbconvert_exporter": "python",
   "pygments_lexer": "ipython3",
   "version": "3.11.2"
  }
 },
 "nbformat": 4,
 "nbformat_minor": 5
}
